{
 "cells": [
  {
   "cell_type": "code",
   "execution_count": 1,
   "metadata": {},
   "outputs": [],
   "source": [
    "import pandas as pd\n",
    "import numpy as np\n",
    "from sklearn import datasets\n",
    "import tabulate\n",
    "tabulate.PRESERVE_WHITESPACE = True\n",
    "from tabulate import tabulate"
   ]
  },
  {
   "cell_type": "code",
   "execution_count": 2,
   "metadata": {},
   "outputs": [
    {
     "data": {
      "text/plain": [
       "['sepal length (cm)',\n",
       " 'sepal width (cm)',\n",
       " 'petal length (cm)',\n",
       " 'petal width (cm)']"
      ]
     },
     "execution_count": 2,
     "metadata": {},
     "output_type": "execute_result"
    }
   ],
   "source": [
    "data_raw = datasets.load_iris()\n",
    "data = data_raw.data\n",
    "target = data_raw.target\n",
    "data_raw.feature_names"
   ]
  },
  {
   "cell_type": "code",
   "execution_count": 3,
   "metadata": {},
   "outputs": [
    {
     "data": {
      "text/plain": [
       "array(['setosa', 'versicolor', 'virginica'], dtype='<U10')"
      ]
     },
     "execution_count": 3,
     "metadata": {},
     "output_type": "execute_result"
    }
   ],
   "source": [
    "data_raw.target_names"
   ]
  },
  {
   "cell_type": "code",
   "execution_count": 4,
   "metadata": {},
   "outputs": [],
   "source": [
    "data = [data[i, 1] for i in range(len(data))]"
   ]
  },
  {
   "cell_type": "code",
   "execution_count": 5,
   "metadata": {},
   "outputs": [],
   "source": [
    "stats = pd.DataFrame({'sepal_width': data, 'class': target})\n",
    "stats_grouped = stats.groupby('class')\n",
    "setosa = stats[stats['class']==0]"
   ]
  },
  {
   "cell_type": "code",
   "execution_count": 6,
   "metadata": {},
   "outputs": [],
   "source": [
    "def percent(a, b):\n",
    "    return str(a) + \" (\" + str(round(a / b, 1)) + \")\"\n",
    "def selection(left, right):\n",
    "    return ([percent(stats[(stats['sepal_width'] >=left) & (stats['sepal_width'] < right) & (stats['class'] == x)]['sepal_width'].count(), stats[stats['class'] == x]['sepal_width'].count()) for x in (0, 1, 2)] +\n",
    "               [percent(stats[(stats['sepal_width'] >=left) & (stats['sepal_width'] < right)]['sepal_width'].count(), stats['sepal_width'].count())])"
   ]
  },
  {
   "cell_type": "code",
   "execution_count": 7,
   "metadata": {},
   "outputs": [],
   "source": [
    "res_table = [['', 'Iris Setosa', 'Iris Versicolor', 'Iris Virginica', 'Total']]\n",
    "res_table.append(['SEPAL WIDTH [CM]'])\n",
    "res_table.append(['  N'] + list(stats_grouped.count()['sepal_width'].values) + [stats.sepal_width.count()])\n",
    "res_table.append(['  MEAN'] + list(stats_grouped.mean()['sepal_width'].values.round(2)) + [round(stats.sepal_width.mean(), 2)])\n",
    "res_table.append(['  MIN'] + list(stats_grouped.min()['sepal_width'].values.round(1)) + [round(stats.sepal_width.min(), 1)])\n",
    "res_table.append(['  MEDIAN'] + list(stats_grouped.median()['sepal_width'].values.round(2)) + [round(stats.sepal_width.median(), 2)])\n",
    "res_table.append(['  MAX'] + list(stats_grouped.max()['sepal_width'].values.round(1)) + [round(stats.sepal_width.max(), 1)])\n",
    "res_table.append(['  STANDARD DEVIATION'] + list(stats_grouped.std()['sepal_width'].values.round(2)) + [round(stats.sepal_width.std(), 2)])\n",
    "res_table.append([''])\n",
    "res_table.append(['SEPAL WIDTH (%)'])\n",
    "res_table.append(['  < 3'] + selection(0, 3))\n",
    "res_table.append(['  >= 3 AND < 3.5'] + selection(3, 3.5))\n",
    "res_table.append(['  >= 3.5 AND < 4'] + selection(3.5, 4))"
   ]
  },
  {
   "cell_type": "code",
   "execution_count": 8,
   "metadata": {},
   "outputs": [],
   "source": [
    "file_out = open('Parnyakov_irisFlowers.txt', 'w')\n",
    "print('Iris Flower Summary'.center(80,' ') + '\\n' + 'All Flowers'.center(80, ' ') + '\\n\\n' +  tabulate(res_table, headers='firstrow', numalign='right'),file=file_out)\n",
    "file_out.close()"
   ]
  }
 ],
 "metadata": {
  "kernelspec": {
   "display_name": "Python 3",
   "language": "python",
   "name": "python3"
  },
  "language_info": {
   "codemirror_mode": {
    "name": "ipython",
    "version": 3
   },
   "file_extension": ".py",
   "mimetype": "text/x-python",
   "name": "python",
   "nbconvert_exporter": "python",
   "pygments_lexer": "ipython3",
   "version": "3.7.6"
  }
 },
 "nbformat": 4,
 "nbformat_minor": 4
}
